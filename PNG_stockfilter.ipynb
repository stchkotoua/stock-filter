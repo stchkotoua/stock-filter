{
  "nbformat": 4,
  "nbformat_minor": 0,
  "metadata": {
    "colab": {
      "provenance": []
    },
    "kernelspec": {
      "name": "python3",
      "display_name": "Python 3"
    },
    "language_info": {
      "name": "python"
    }
  },
  "cells": [
    {
      "cell_type": "code",
      "execution_count": 1,
      "metadata": {
        "colab": {
          "base_uri": "https://localhost:8080/",
          "height": 374
        },
        "id": "fwrX1RMUmN7X",
        "outputId": "f617b212-b831-4426-b11a-73976f3c22a2"
      },
      "outputs": [
        {
          "output_type": "error",
          "ename": "ModuleNotFoundError",
          "evalue": "ignored",
          "traceback": [
            "\u001b[0;31m---------------------------------------------------------------------------\u001b[0m",
            "\u001b[0;31mModuleNotFoundError\u001b[0m                       Traceback (most recent call last)",
            "\u001b[0;32m<ipython-input-1-d8ff3b2efd4c>\u001b[0m in \u001b[0;36m<module>\u001b[0;34m\u001b[0m\n\u001b[0;32m----> 1\u001b[0;31m \u001b[0;32mimport\u001b[0m \u001b[0myfinance\u001b[0m \u001b[0;32mas\u001b[0m \u001b[0myf\u001b[0m\u001b[0;34m\u001b[0m\u001b[0;34m\u001b[0m\u001b[0m\n\u001b[0m\u001b[1;32m      2\u001b[0m \u001b[0;32mimport\u001b[0m \u001b[0mpandas\u001b[0m \u001b[0;32mas\u001b[0m \u001b[0mpd\u001b[0m\u001b[0;34m\u001b[0m\u001b[0;34m\u001b[0m\u001b[0m\n\u001b[1;32m      3\u001b[0m \u001b[0;32mimport\u001b[0m \u001b[0mrandom\u001b[0m\u001b[0;34m\u001b[0m\u001b[0;34m\u001b[0m\u001b[0m\n\u001b[1;32m      4\u001b[0m \u001b[0;34m\u001b[0m\u001b[0m\n\u001b[1;32m      5\u001b[0m \u001b[0mtable\u001b[0m \u001b[0;34m=\u001b[0m \u001b[0mpd\u001b[0m\u001b[0;34m.\u001b[0m\u001b[0mread_html\u001b[0m\u001b[0;34m(\u001b[0m\u001b[0;34m'https://en.wikipedia.org/wiki/List_of_S%26P_500_companies'\u001b[0m\u001b[0;34m)\u001b[0m\u001b[0;34m\u001b[0m\u001b[0;34m\u001b[0m\u001b[0m\n",
            "\u001b[0;31mModuleNotFoundError\u001b[0m: No module named 'yfinance'",
            "",
            "\u001b[0;31m---------------------------------------------------------------------------\u001b[0;32m\nNOTE: If your import is failing due to a missing package, you can\nmanually install dependencies using either !pip or !apt.\n\nTo view examples of installing some common dependencies, click the\n\"Open Examples\" button below.\n\u001b[0;31m---------------------------------------------------------------------------\u001b[0m\n"
          ],
          "errorDetails": {
            "actions": [
              {
                "action": "open_url",
                "actionText": "Open Examples",
                "url": "/notebooks/snippets/importing_libraries.ipynb"
              }
            ]
          }
        }
      ],
      "source": [
        "import yfinance as yf\n",
        "import pandas as pd\n",
        "import random\n",
        "\n",
        "table = pd.read_html('https://en.wikipedia.org/wiki/List_of_S%26P_500_companies')\n",
        "stocks = list(table[0]['Symbol'])[:50]\n",
        "wanted = ['sector', 'grossMargins', 'profitMargins', 'ebitdaMargins', 'revenueGrowth', 'enterpriseToRevenue', 'enterpriseToEbitda', 'enterpriseValue', 'priceToBook', 'beta', 'returnOnAssets','returnOnEquity']\n",
        "\n",
        "def get_stock_data(stocks, wanted):\n",
        "    stock_data = {}\n",
        "    for stock in stocks:\n",
        "        try:\n",
        "            stock_info = yf.Ticker(stock).info\n",
        "            stock_data[stock] = {}\n",
        "            for item in wanted:\n",
        "                stock_data[stock][item] = stock_info[item]\n",
        "        except:\n",
        "            pass\n",
        "    return stock_data\n",
        "\n",
        "def stock_filter(stock_data, gross_margin=None, ev_ebitda=None, profit_margin=None, ev_revenue=None):\n",
        "    filtered_stocks = {}\n",
        "    for stock, data in stock_data.items():\n",
        "        if gross_margin and data['grossMargins'] < gross_margin:\n",
        "            continue\n",
        "        if ev_ebitda and data['enterpriseToEbitda'] > ev_ebitda:\n",
        "            continue\n",
        "        if profit_margin and data['profitMargins'] < profit_margin:\n",
        "            continue\n",
        "        if ev_revenue and data['enterpriseToRevenue'] > ev_revenue:\n",
        "            continue\n",
        "        filtered_stocks[stock] = data\n",
        "    return filtered_stocks\n",
        "\n",
        "stock_data = get_stock_data(stocks, wanted)\n",
        "filtered_stocks = stock_filter(stock_data, gross_margin=0.15, ev_ebitda=10, profit_margin=0.05, ev_revenue=2)\n",
        "for stock, data in filtered_stocks.items():\n",
        "    print(f\"Stock: {stock}\")\n",
        "    for item, value in data.items():\n",
        "        print(f\"{item}: {value}\")\n",
        "    print(\"\\n\")\n"
      ]
    }
  ]
}
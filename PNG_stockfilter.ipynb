{
  "nbformat": 4,
  "nbformat_minor": 0,
  "metadata": {
    "colab": {
      "provenance": []
    },
    "kernelspec": {
      "name": "python3",
      "display_name": "Python 3"
    },
    "language_info": {
      "name": "python"
    }
  },
  "cells": [
    {
      "cell_type": "code",
      "source": [
        "!pip install yfinance pandas\n",
        "\n",
        "import yfinance as yf\n",
        "import pandas as pd\n",
        "\n",
        "stocks = ['AAPL', 'GOOG', 'TSLA', 'AMZN', 'MSFT']\n",
        "wanted = ['sector', 'grossMargins', 'profitMargins', 'ebitdaMargins', 'revenueGrowth', 'enterpriseToRevenue', 'enterpriseToEbitda', 'enterpriseValue', 'priceToBook', 'beta', 'returnOnAssets', 'returnOnEquity']\n",
        "\n",
        "def get_stock_data(stocks, wanted):\n",
        "    stock_data = {}\n",
        "    for stock in stocks:\n",
        "        try:\n",
        "            stock_info = yf.Ticker(stock).info\n",
        "            stock_data[stock] = {}\n",
        "            for item in wanted:\n",
        "                stock_data[stock][item] = stock_info[item]\n",
        "        except:\n",
        "            pass\n",
        "    return stock_data\n",
        "\n",
        "def stock_filter(stock_data, gross_margin=None, ev_ebitda=None, profit_margin=None, ev_revenue=None):\n",
        "    filtered_stocks = {}\n",
        "    for stock, data in stock_data.items():\n",
        "        if gross_margin and data['grossMargins'] < gross_margin:\n",
        "            continue\n",
        "        if ev_ebitda and data['enterpriseToEbitda'] > ev_ebitda:\n",
        "            continue\n",
        "        if profit_margin and data['profitMargins'] < profit_margin:\n",
        "            continue\n",
        "        if ev_revenue and data['enterpriseToRevenue'] > ev_revenue:\n",
        "            continue\n",
        "        filtered_stocks[stock] = data\n",
        "    return filtered_stocks\n",
        "\n",
        "stock_data = get_stock_data(stocks, wanted)\n",
        "filtered_stocks = stock_filter(stock_data, gross_margin=0.15, ev_ebitda=10, profit_margin=0.05, ev_revenue=2)\n",
        "for stock, data in filtered_stocks.items():\n",
        "    print(f\"Stock: {stock}\")\n",
        "    for item, value in data.items():\n",
        "        print(f\"{item}: {value}\")\n",
        "    print(\"\\n\")\n"
      ],
      "metadata": {
        "id": "1I2Q1-pQpfC_"
      },
      "execution_count": 4,
      "outputs": []
    }
  ]
}